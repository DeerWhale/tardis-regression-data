{
 "cells": [
  {
   "cell_type": "code",
   "execution_count": null,
   "id": "01b39d21-cb87-420d-b65b-9d2460be3c28",
   "metadata": {},
   "outputs": [],
   "source": [
    "from pathlib import Path\n",
    "from compare import ReferenceComparer, get_last_two_commits"
   ]
  },
  {
   "cell_type": "code",
   "execution_count": null,
   "id": "e7138950",
   "metadata": {},
   "outputs": [],
   "source": [
    "import os\n",
    "\n",
    "ref1_hash = os.getenv('REF1_HASH')\n",
    "ref2_hash = os.getenv('REF2_HASH')\n",
    "\n",
    "if not (ref1_hash and ref2_hash):\n",
    "    ref1_hash, ref2_hash = get_last_two_commits()\n",
    "\n",
    "if not (ref1_hash and ref2_hash):\n",
    "    raise ValueError(\"Could not get commit hashes.\")"
   ]
  },
  {
   "cell_type": "code",
   "execution_count": null,
   "id": "da5b9971",
   "metadata": {},
   "outputs": [],
   "source": [
    "# ref1_hash=\"170f1a2c0d8c6db518a4b9a0f4cb9b657aaa61b6\"\n",
    "# ref2_hash=\"d9fd3bb659d185bd9ece10b8e2175cf497ea84c5\""
   ]
  },
  {
   "cell_type": "code",
   "execution_count": null,
   "id": "7dedb1f6-4962-499d-9a3f-94368cc181c0",
   "metadata": {
    "scrolled": true
   },
   "outputs": [],
   "source": [
    "comparer = ReferenceComparer(ref1_hash=ref1_hash, ref2_hash=ref2_hash, print_path=True)\n",
    "\n",
    "comparer.setup()\n",
    "comparer.diff_analyzer.display_diff_tree(comparer.dcmp)"
   ]
  },
  {
   "cell_type": "code",
   "execution_count": null,
   "id": "4e6567d0",
   "metadata": {
    "scrolled": true
   },
   "outputs": [],
   "source": [
    "comparer.compare()"
   ]
  },
  {
   "cell_type": "code",
   "execution_count": null,
   "id": "e52d89cc",
   "metadata": {
    "scrolled": true
   },
   "outputs": [],
   "source": [
    "# comparer.hdf_comparator.summarise_changes_hdf(\"test_generate_plot_ply__plotter_generate_plot_ply1__.h5\",\n",
    "#                                              \"/var/folders/5r/hzj1v37d7nl3gpyk2kt94qb40000gn/T/ref_compare_h6vy52ut/ref1/tardis/visualization/tools/tests/test_liv_plot/test_liv_plotter\",\n",
    "#                                              \"/var/folders/5r/hzj1v37d7nl3gpyk2kt94qb40000gn/T/ref_compare_h6vy52ut/ref2/tardis/visualization/tools/tests/test_liv_plot/test_liv_plotter\"\n",
    "#                                              )"
   ]
  },
  {
   "cell_type": "code",
   "execution_count": null,
   "id": "d054216f",
   "metadata": {},
   "outputs": [],
   "source": [
    "fig_same_name = comparer.generate_graph(\"different keys same name\")\n",
    "fig_different_keys = comparer.generate_graph(\"different keys\")"
   ]
  },
  {
   "cell_type": "code",
   "execution_count": null,
   "id": "d6054581",
   "metadata": {},
   "outputs": [],
   "source": [
    "fig_different_keys"
   ]
  },
  {
   "cell_type": "code",
   "execution_count": null,
   "id": "7f72c4bc",
   "metadata": {},
   "outputs": [],
   "source": [
    "fig_same_name.layout.width = 1000\n",
    "fig_same_name"
   ]
  },
  {
   "cell_type": "code",
   "execution_count": null,
   "id": "d99bd0a9",
   "metadata": {
    "scrolled": true
   },
   "outputs": [],
   "source": [
    "comparer.compare_testspectrumsolver_hdf(custom_ref2_path = Path(comparer.ref2_path) / \"test_spectrum_solver/test_spectrum_solver/TestSpectrumSolver.h5\")"
   ]
  },
  {
   "cell_type": "code",
   "execution_count": null,
   "id": "560c4951-6942-49f1-8197-760840897cc6",
   "metadata": {},
   "outputs": [],
   "source": [
    "comparer.teardown()"
   ]
  },
  {
   "cell_type": "code",
   "execution_count": null,
   "id": "cc055c26-a192-4016-8323-9349dd0543c3",
   "metadata": {},
   "outputs": [],
   "source": []
  }
 ],
 "metadata": {
  "kernelspec": {
   "display_name": "Python 3 (ipykernel)",
   "language": "python",
   "name": "python3"
  },
  "language_info": {
   "codemirror_mode": {
    "name": "ipython",
    "version": 3
   },
   "file_extension": ".py",
   "mimetype": "text/x-python",
   "name": "python",
   "nbconvert_exporter": "python",
   "pygments_lexer": "ipython3",
   "version": "3.12.4"
  },
  "varInspector": {
   "cols": {
    "lenName": 16,
    "lenType": 16,
    "lenVar": 40
   },
   "kernels_config": {
    "python": {
     "delete_cmd_postfix": "",
     "delete_cmd_prefix": "del ",
     "library": "var_list.py",
     "varRefreshCmd": "print(var_dic_list())"
    },
    "r": {
     "delete_cmd_postfix": ") ",
     "delete_cmd_prefix": "rm(",
     "library": "var_list.r",
     "varRefreshCmd": "cat(var_dic_list()) "
    }
   },
   "types_to_exclude": [
    "module",
    "function",
    "builtin_function_or_method",
    "instance",
    "_Feature"
   ],
   "window_display": false
  }
 },
 "nbformat": 4,
 "nbformat_minor": 5
}
